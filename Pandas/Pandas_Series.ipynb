{
 "cells": [
  {
   "cell_type": "markdown",
   "id": "7eb64af1-9152-43a2-8fff-922ad672901f",
   "metadata": {},
   "source": [
    "# Pandas Series."
   ]
  },
  {
   "cell_type": "markdown",
   "id": "c5ecb90a-0580-4929-99ef-3a01691bade7",
   "metadata": {},
   "source": [
    "### What is a Series? \n",
    "A Pandas Series is like a column in a table. \n",
    "It is a one-dimensional array holding data of any type."
   ]
  },
  {
   "cell_type": "code",
   "execution_count": 2,
   "id": "a846c229-70a6-4468-8015-3b45144df888",
   "metadata": {},
   "outputs": [
    {
     "name": "stdout",
     "output_type": "stream",
     "text": [
      "0    1\n",
      "1    7\n",
      "2    2\n",
      "3    4\n",
      "dtype: int64\n"
     ]
    }
   ],
   "source": [
    "# Create a simple Pandas Series from a list:\n",
    "import pandas as pd\n",
    "a = [1, 7, 2, 4]\n",
    "myvar = pd.Series(a)\n",
    "print(myvar) "
   ]
  },
  {
   "cell_type": "code",
   "execution_count": 5,
   "id": "e3f1e919-93bc-4df6-bd7d-8f7895da5b9c",
   "metadata": {},
   "outputs": [
    {
     "name": "stdout",
     "output_type": "stream",
     "text": [
      "1\n"
     ]
    }
   ],
   "source": [
    "# Return the first value of the Series:\n",
    "print(myvar[0])"
   ]
  },
  {
   "cell_type": "code",
   "execution_count": 6,
   "id": "f46b69f3-bb49-47c8-9b82-44b3e279571b",
   "metadata": {},
   "outputs": [
    {
     "name": "stdout",
     "output_type": "stream",
     "text": [
      "0     2\n",
      "1     4\n",
      "2     6\n",
      "3     8\n",
      "4    10\n",
      "dtype: int64\n",
      "\n",
      "2\n"
     ]
    }
   ],
   "source": [
    "a = [2, 4, 6, 8, 10]\n",
    "myvar = pd.Series(a)\n",
    "print(myvar)\n",
    "print()\n",
    "print(myvar[0]) "
   ]
  },
  {
   "cell_type": "code",
   "execution_count": 7,
   "id": "f3231ff1-b8b0-4b44-a54e-38a51d00dbdf",
   "metadata": {},
   "outputs": [
    {
     "name": "stdout",
     "output_type": "stream",
     "text": [
      "2\n"
     ]
    }
   ],
   "source": [
    "print(a[0])"
   ]
  },
  {
   "cell_type": "markdown",
   "id": "66063157-6a02-469c-97ae-70367f701045",
   "metadata": {},
   "source": [
    "## Create Labels\n",
    "### With the index argument, you can name your own labels."
   ]
  },
  {
   "cell_type": "code",
   "execution_count": 8,
   "id": "01699f72-92b5-4d67-b1cf-8c688ee5aa6f",
   "metadata": {},
   "outputs": [
    {
     "name": "stdout",
     "output_type": "stream",
     "text": [
      "x      1\n",
      "y      7\n",
      "z    zoo\n",
      "a      3\n",
      "dtype: object\n"
     ]
    }
   ],
   "source": [
    "a = [1, 7, \"zoo\", 3]\n",
    "myvar = pd.Series(a, index = [\"x\", \"y\", \"z\", \"a\"])\n",
    "print(myvar)"
   ]
  },
  {
   "cell_type": "code",
   "execution_count": 11,
   "id": "14f26048-b96e-4724-8743-9ec7314c22cc",
   "metadata": {},
   "outputs": [
    {
     "name": "stdout",
     "output_type": "stream",
     "text": [
      "1\n",
      "7\n",
      "zoo\n",
      "3\n"
     ]
    }
   ],
   "source": [
    "print(myvar[\"x\"])    # element can access with label\n",
    "print(myvar[\"y\"])\n",
    "print(myvar[\"z\"])\n",
    "print(myvar[\"a\"])\n"
   ]
  },
  {
   "cell_type": "code",
   "execution_count": 12,
   "id": "f5ddf7b8-ce6d-494c-9471-f229b2d86aba",
   "metadata": {},
   "outputs": [
    {
     "name": "stdout",
     "output_type": "stream",
     "text": [
      "day1    420\n",
      "day2    380\n",
      "day3    390\n",
      "dtype: int64\n"
     ]
    }
   ],
   "source": [
    "import pandas as pd\n",
    "\n",
    "calories = {\"day1\": 420, \"day2\": 380, \"day3\": 390}\n",
    "\n",
    "myvar = pd.Series(calories)\n",
    "\n",
    "print(myvar)"
   ]
  },
  {
   "cell_type": "code",
   "execution_count": 13,
   "id": "6e6b0161-86dc-49b3-b150-dd8654d4f3b3",
   "metadata": {},
   "outputs": [
    {
     "name": "stdout",
     "output_type": "stream",
     "text": [
      "day1    420\n",
      "day2    380\n",
      "dtype: int64\n"
     ]
    }
   ],
   "source": [
    "import pandas as pd\n",
    "\n",
    "calories = {\"day1\": 420, \"day2\": 380, \"day3\": 390}\n",
    "\n",
    "myvar = pd.Series(calories, index = [\"day1\", \"day2\"])\n",
    "\n",
    "print(myvar)"
   ]
  },
  {
   "cell_type": "code",
   "execution_count": 14,
   "id": "f5dd2eb0-5276-4be4-8248-1f551f7f5d7d",
   "metadata": {},
   "outputs": [
    {
     "name": "stdout",
     "output_type": "stream",
     "text": [
      "   calories  duration\n",
      "0       420        50\n",
      "1       380        40\n",
      "2       390        45\n"
     ]
    }
   ],
   "source": [
    "import pandas as pd\n",
    "\n",
    "data = {\n",
    "  \"calories\": [420, 380, 390],\n",
    "  \"duration\": [50, 40, 45]\n",
    "}\n",
    "\n",
    "myvar = pd.DataFrame(data)\n",
    "\n",
    "print(myvar)"
   ]
  },
  {
   "cell_type": "code",
   "execution_count": 15,
   "id": "028eb7df-40ef-44b7-b4f7-51002ee996ba",
   "metadata": {},
   "outputs": [
    {
     "name": "stdout",
     "output_type": "stream",
     "text": [
      "0    Lamboginni\n",
      "1       Farrari\n",
      "2          Audi\n",
      "3           BMW\n",
      "dtype: object\n"
     ]
    }
   ],
   "source": [
    "Cars = [\"Lamboginni\", \"Farrari\", \"Audi\", \"BMW\"] \n",
    "r = pd.Series(Cars) \n",
    "print(r) "
   ]
  },
  {
   "cell_type": "code",
   "execution_count": 16,
   "id": "973439a2-a040-4b02-902e-5f74c456cac8",
   "metadata": {},
   "outputs": [
    {
     "name": "stdout",
     "output_type": "stream",
     "text": [
      "Lamboginni\n",
      "Audi\n"
     ]
    }
   ],
   "source": [
    "print(r[0])\n",
    "print(r[2])"
   ]
  },
  {
   "cell_type": "code",
   "execution_count": 17,
   "id": "8b0ebbd1-a50a-4b63-be36-267f59f80983",
   "metadata": {},
   "outputs": [
    {
     "name": "stdout",
     "output_type": "stream",
     "text": [
      "1    Audi\n",
      "3      RR\n",
      "dtype: object\n"
     ]
    }
   ],
   "source": [
    "car = {1 : \"Audi\", 2 : \"Lambo\", 3 :  \"RR\"}\n",
    "\n",
    "op = pd.Series(car, index = [1, 3])\n",
    "print(op)"
   ]
  },
  {
   "cell_type": "code",
   "execution_count": null,
   "id": "3a5f9e8f-aeb7-4e2b-be72-90c5708aed6a",
   "metadata": {},
   "outputs": [],
   "source": []
  }
 ],
 "metadata": {
  "kernelspec": {
   "display_name": "Python 3 (ipykernel)",
   "language": "python",
   "name": "python3"
  },
  "language_info": {
   "codemirror_mode": {
    "name": "ipython",
    "version": 3
   },
   "file_extension": ".py",
   "mimetype": "text/x-python",
   "name": "python",
   "nbconvert_exporter": "python",
   "pygments_lexer": "ipython3",
   "version": "3.11.9"
  }
 },
 "nbformat": 4,
 "nbformat_minor": 5
}
