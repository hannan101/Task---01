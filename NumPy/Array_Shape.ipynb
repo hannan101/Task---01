{
 "cells": [
  {
   "cell_type": "markdown",
   "id": "7edb6c85-75d7-425f-8a57-6690232a1b3f",
   "metadata": {},
   "source": [
    "# NumPy Array Shape\n",
    "## Shape of an Array\r\n",
    "The shape of an array is the number of elements in each dimension\r",
    "## \n",
    "\r\n",
    "Get the Shape of an Array\r\n",
    "NumPy arrays have an attribute called shape that returns a tuple with each index having the number of corresponding elements.nts."
   ]
  },
  {
   "cell_type": "code",
   "execution_count": 5,
   "id": "f7a5fba7-0872-433b-a475-4cef862ff59a",
   "metadata": {},
   "outputs": [
    {
     "name": "stdout",
     "output_type": "stream",
     "text": [
      "(2, 4)\n"
     ]
    }
   ],
   "source": [
    "# Print the shape of a 2-D array:\n",
    "\n",
    "import numpy as np\n",
    "\n",
    "arr = np.array([[1, 2, 3, 4], [5, 6, 7, 8]])\n",
    "\n",
    "print(arr.shape)"
   ]
  },
  {
   "cell_type": "markdown",
   "id": "3e17581d-d08b-47d8-a7f2-fbf30823e084",
   "metadata": {},
   "source": [
    "The example above returns (2, 4), which means that the array has 2 dimensions, where the first dimension has 2 elements and the second has 4."
   ]
  },
  {
   "cell_type": "code",
   "execution_count": 6,
   "id": "3a9c8b04-d1f8-4ed9-9e42-c52333880d81",
   "metadata": {},
   "outputs": [
    {
     "name": "stdout",
     "output_type": "stream",
     "text": [
      "[[[[[1 2 3 4]]]]]\n",
      "shape of array : (1, 1, 1, 1, 4)\n"
     ]
    }
   ],
   "source": [
    "# Create an array with 5 dimensions using ndmin using a vector with values 1,2,3,4 and verify that last dimension has value 4:\n",
    "\n",
    "import numpy as np\n",
    "\n",
    "arr = np.array([1, 2, 3, 4], ndmin=5)\n",
    "\n",
    "print(arr)\n",
    "print('shape of array :', arr.shape)"
   ]
  },
  {
   "cell_type": "markdown",
   "id": "c9a9d087-7d09-4d65-b482-818ee500c9a9",
   "metadata": {},
   "source": [
    "### What does the shape tuple represent?\n",
    "Integers at every index tells about the number of elements the corresponding dimension has.\n",
    "\n",
    "In the example above at index-4 we have value 4, so we can say that 5th ( 4 + 1 th) dimension has 4 elements."
   ]
  },
  {
   "cell_type": "code",
   "execution_count": null,
   "id": "8ff9b5c6-cf63-450a-91d9-3b71ed30d241",
   "metadata": {},
   "outputs": [],
   "source": []
  }
 ],
 "metadata": {
  "kernelspec": {
   "display_name": "Python 3 (ipykernel)",
   "language": "python",
   "name": "python3"
  },
  "language_info": {
   "codemirror_mode": {
    "name": "ipython",
    "version": 3
   },
   "file_extension": ".py",
   "mimetype": "text/x-python",
   "name": "python",
   "nbconvert_exporter": "python",
   "pygments_lexer": "ipython3",
   "version": "3.11.9"
  }
 },
 "nbformat": 4,
 "nbformat_minor": 5
}
