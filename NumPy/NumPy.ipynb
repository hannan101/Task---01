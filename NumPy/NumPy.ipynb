{
 "cells": [
  {
   "cell_type": "markdown",
   "id": "652c805d-a131-4413-a9ae-b7666be9f99e",
   "metadata": {},
   "source": [
    "# NumPy\n",
    "NumPy is a Python library.\r\n",
    "\r\n",
    "NumPy is used for working with arrays.\r\n",
    "\r\n",
    "NumPy is short for \"Numerical Python\"."
   ]
  },
  {
   "cell_type": "markdown",
   "id": "2e86d6e3-0567-4a29-86f9-d856e8e9baa6",
   "metadata": {},
   "source": [
    "## Learning by Examples\n",
    "### In our \"Try it Yourself\" editor, you can use the NumPy module, and modify the code to see the result."
   ]
  },
  {
   "cell_type": "code",
   "execution_count": 1,
   "id": "20e923bd-0de2-4a5b-92d6-f90c1352945e",
   "metadata": {},
   "outputs": [
    {
     "name": "stdout",
     "output_type": "stream",
     "text": [
      "[1 2 3 4 5]\n",
      "<class 'numpy.ndarray'>\n"
     ]
    }
   ],
   "source": [
    "# Create a NumPy array:\n",
    "\n",
    "import numpy as np\n",
    "\n",
    "arr = np.array([1, 2, 3, 4, 5])\n",
    "\n",
    "print(arr)\n",
    "\n",
    "print(type(arr))"
   ]
  },
  {
   "cell_type": "markdown",
   "id": "4837be9f-7645-456a-ba0f-50d993510fea",
   "metadata": {},
   "source": [
    "## Import NumPy\n",
    "### Once NumPy is installed, import it in your applications by adding the import keyword:"
   ]
  },
  {
   "cell_type": "code",
   "execution_count": 3,
   "id": "4c732240-c38e-4cdd-bfbb-26a5c0e2e622",
   "metadata": {},
   "outputs": [],
   "source": [
    "import numpy"
   ]
  },
  {
   "cell_type": "code",
   "execution_count": 4,
   "id": "01bb4976-0039-4f30-82ed-a268ed6f8b5f",
   "metadata": {},
   "outputs": [
    {
     "name": "stdout",
     "output_type": "stream",
     "text": [
      "[1 2 3 4 5]\n"
     ]
    }
   ],
   "source": [
    "# Now NumPy is imported and ready to use.\n",
    "import numpy\n",
    "\n",
    "arr = numpy.array([1, 2, 3, 4, 5])\n",
    "\n",
    "print(arr)"
   ]
  },
  {
   "cell_type": "code",
   "execution_count": 6,
   "id": "124ed5e8-7850-41e3-accc-08f9d2cbd3d9",
   "metadata": {},
   "outputs": [],
   "source": [
    "# Create an alias with the as keyword while importing:\n",
    "import numpy as np"
   ]
  },
  {
   "cell_type": "code",
   "execution_count": null,
   "id": "964c23f0-e1b7-4e5b-92ec-2e39966565b6",
   "metadata": {},
   "outputs": [],
   "source": []
  }
 ],
 "metadata": {
  "kernelspec": {
   "display_name": "Python 3 (ipykernel)",
   "language": "python",
   "name": "python3"
  },
  "language_info": {
   "codemirror_mode": {
    "name": "ipython",
    "version": 3
   },
   "file_extension": ".py",
   "mimetype": "text/x-python",
   "name": "python",
   "nbconvert_exporter": "python",
   "pygments_lexer": "ipython3",
   "version": "3.11.9"
  }
 },
 "nbformat": 4,
 "nbformat_minor": 5
}
