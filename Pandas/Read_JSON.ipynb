{
 "cells": [
  {
   "cell_type": "markdown",
   "id": "b13221d5-2655-4d66-9704-4ae87be42cb3",
   "metadata": {},
   "source": [
    "# Read JSON"
   ]
  },
  {
   "cell_type": "markdown",
   "id": "ca8f355f-34e9-4a07-b545-2b01f4c3375a",
   "metadata": {},
   "source": [
    "## Read JSON\n",
    "Big data sets are often stored, or extracted as JSON.\n",
    "\n",
    "JSON is plain text, but has the format of an object, and is well known in the world of programming, including Pandas.\n",
    "\n",
    "In our examples we will be using a JSON file called 'data.json'."
   ]
  },
  {
   "cell_type": "code",
   "execution_count": 19,
   "id": "62f686bd-97cd-4c9b-9be9-d1970d8ac935",
   "metadata": {},
   "outputs": [
    {
     "name": "stdout",
     "output_type": "stream",
     "text": [
      "     name   color  quantity\n",
      "0   Apple     Red        10\n",
      "1  Banana  Yellow        20\n",
      "2  Orange  Orange        15\n",
      "3   Mango   Green         8\n",
      "4  Grapes  Purple        50\n"
     ]
    }
   ],
   "source": [
    "import pandas as pd\n",
    "\n",
    "df = pd.read_json('sample1.json')\n",
    "\n",
    "print(df.to_string()) \n"
   ]
  },
  {
   "cell_type": "markdown",
   "id": "c6847fe2-1526-46f6-89c7-026ba381f6ee",
   "metadata": {},
   "source": [
    "# Dictionary as JSON\n",
    "If your JSON code is not in a file, but in a Python Dictionary, you can load it into a DataFrame directly:"
   ]
  },
  {
   "cell_type": "code",
   "execution_count": 20,
   "id": "e233d8b0-2bb6-47cc-afc7-1e5980a6d0d5",
   "metadata": {},
   "outputs": [
    {
     "name": "stdout",
     "output_type": "stream",
     "text": [
      "   Duration  Pulse  Maxpulse  Calories\n",
      "0        60    110       130       409\n",
      "1        60    117       145       479\n",
      "2        60    103       135       340\n",
      "3        45    109       175       282\n",
      "4        45    117       148       406\n",
      "5        60    102       127       300\n"
     ]
    }
   ],
   "source": [
    "# Load a Python Dictionary into a DataFrame:\n",
    "import pandas as pd\n",
    "\n",
    "data = {\n",
    "  \"Duration\":{\n",
    "    \"0\":60,\n",
    "    \"1\":60,\n",
    "    \"2\":60,\n",
    "    \"3\":45,\n",
    "    \"4\":45,\n",
    "    \"5\":60\n",
    "  },\n",
    "  \"Pulse\":{\n",
    "    \"0\":110,\n",
    "    \"1\":117,\n",
    "    \"2\":103,\n",
    "    \"3\":109,\n",
    "    \"4\":117,\n",
    "    \"5\":102\n",
    "  },\n",
    "  \"Maxpulse\":{\n",
    "    \"0\":130,\n",
    "    \"1\":145,\n",
    "    \"2\":135,\n",
    "    \"3\":175,\n",
    "    \"4\":148,\n",
    "    \"5\":127\n",
    "  },\n",
    "  \"Calories\":{\n",
    "    \"0\":409,\n",
    "    \"1\":479,\n",
    "    \"2\":340,\n",
    "    \"3\":282,\n",
    "    \"4\":406,\n",
    "    \"5\":300\n",
    "  }\n",
    "}\n",
    "\n",
    "df = pd.DataFrame(data)\n",
    "\n",
    "print(df) "
   ]
  },
  {
   "cell_type": "code",
   "execution_count": 2,
   "id": "7c0ac2d6-9eb3-49d9-9da9-676389551d2d",
   "metadata": {},
   "outputs": [
    {
     "name": "stdout",
     "output_type": "stream",
     "text": [
      "   Duration  Pulse  Maxpulse  Calories\n",
      "0        60    110       130       409\n",
      "1        60    117       145       479\n",
      "2        60    103       135       340\n",
      "3        45    109       175       282\n",
      "4        45    117       148       406\n",
      "5        60    102       127       300\n"
     ]
    }
   ],
   "source": [
    "# OR \n",
    "print(df.to_string()) "
   ]
  },
  {
   "cell_type": "code",
   "execution_count": null,
   "id": "dc9b0bce-17f4-457a-a73f-27eac5136782",
   "metadata": {},
   "outputs": [],
   "source": []
  }
 ],
 "metadata": {
  "kernelspec": {
   "display_name": "Python 3 (ipykernel)",
   "language": "python",
   "name": "python3"
  },
  "language_info": {
   "codemirror_mode": {
    "name": "ipython",
    "version": 3
   },
   "file_extension": ".py",
   "mimetype": "text/x-python",
   "name": "python",
   "nbconvert_exporter": "python",
   "pygments_lexer": "ipython3",
   "version": "3.11.9"
  }
 },
 "nbformat": 4,
 "nbformat_minor": 5
}
