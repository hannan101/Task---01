{
 "cells": [
  {
   "cell_type": "markdown",
   "id": "3ba683b6-d7d0-49c1-90cb-95a89d0361bb",
   "metadata": {},
   "source": [
    "# PANDAS LIBRARY"
   ]
  },
  {
   "cell_type": "markdown",
   "id": "d7a55caa-6443-456d-b68d-189abd084ad5",
   "metadata": {},
   "source": [
    "## Import Pandas\n",
    "Installation of Pandas\r\n",
    "If you have Python and PIP already installed on a system, then installation of Pandas is very easy.\r\n",
    "\r\n",
    "Install it using this comma\n",
    "\n",
    "C:\\Users\\Your Name>pip install pandasnd:"
   ]
  },
  {
   "cell_type": "markdown",
   "id": "32df9c75-6baa-416b-babc-6a1ac7437b49",
   "metadata": {},
   "source": [
    "## Import Pandas\r\n",
    "Once Pandas is installed, import it in your applications by adding the import keyword:"
   ]
  },
  {
   "cell_type": "code",
   "execution_count": 4,
   "id": "572d937f-55fe-44f8-90ac-a74806130717",
   "metadata": {},
   "outputs": [],
   "source": [
    "# Once Pandas is installed, import it in your applications by adding the import keyword:\n",
    "import pandas as pd \n",
    "# Now Pandas is imported and ready to use."
   ]
  },
  {
   "cell_type": "code",
   "execution_count": 2,
   "id": "d8828c06-7ff4-411c-bd0e-932fa3dfb5b3",
   "metadata": {},
   "outputs": [
    {
     "name": "stdout",
     "output_type": "stream",
     "text": [
      "   cars  passings\n",
      "0   BMW         3\n",
      "1  AUDI         7\n",
      "2  Ford         2\n"
     ]
    }
   ],
   "source": [
    "mydataset = {\n",
    "  'cars': [\"BMW\", \"AUDI\", \"Ford\"],\n",
    "  'passings': [3, 7, 2]\n",
    "}\n",
    "myvar = pd.DataFrame(mydataset)\n",
    "print(myvar)"
   ]
  },
  {
   "cell_type": "markdown",
   "id": "dcb0813d-549c-4336-9a91-3090cdaa6ed1",
   "metadata": {},
   "source": [
    "## Checking Pandas Version"
   ]
  },
  {
   "cell_type": "code",
   "execution_count": 3,
   "id": "67718b67-faed-40ce-a768-e24bfb2a3eae",
   "metadata": {},
   "outputs": [
    {
     "name": "stdout",
     "output_type": "stream",
     "text": [
      "2.1.4\n"
     ]
    }
   ],
   "source": [
    "# The version string is stored under __version__ attribute.\n",
    "print(pd.__version__)"
   ]
  }
 ],
 "metadata": {
  "kernelspec": {
   "display_name": "Python 3 (ipykernel)",
   "language": "python",
   "name": "python3"
  },
  "language_info": {
   "codemirror_mode": {
    "name": "ipython",
    "version": 3
   },
   "file_extension": ".py",
   "mimetype": "text/x-python",
   "name": "python",
   "nbconvert_exporter": "python",
   "pygments_lexer": "ipython3",
   "version": "3.11.9"
  }
 },
 "nbformat": 4,
 "nbformat_minor": 5
}
