{
 "cells": [
  {
   "cell_type": "markdown",
   "id": "ec660ea3-0fa3-4080-a465-5c7a1d6e3f72",
   "metadata": {},
   "source": [
    "# Array Indexing\n",
    "Access Array Elements\n",
    "\n",
    "Array indexing is the same as accessing an array element.\n",
    "\n",
    "You can access an array element by referring to its index number.\n",
    "\n",
    "The indexes in NumPy arrays start with 0, meaning that the first element has index 0, and the second has index 1 etc."
   ]
  },
  {
   "cell_type": "code",
   "execution_count": 2,
   "id": "a54be30b-36f0-43b4-9cac-b4ee9349453b",
   "metadata": {},
   "outputs": [
    {
     "name": "stdout",
     "output_type": "stream",
     "text": [
      "1\n"
     ]
    }
   ],
   "source": [
    "# Get the first element from the following array:\n",
    "\n",
    "import numpy as np\n",
    "\n",
    "arr = np.array([1, 2, 3, 4])\n",
    "\n",
    "print(arr[0])"
   ]
  },
  {
   "cell_type": "code",
   "execution_count": 3,
   "id": "f29997a6-8b82-4fb2-8aba-648261ca6a04",
   "metadata": {},
   "outputs": [
    {
     "name": "stdout",
     "output_type": "stream",
     "text": [
      "2\n"
     ]
    }
   ],
   "source": [
    "# Get the second element from the following array.\n",
    "\n",
    "import numpy as np\n",
    "\n",
    "arr = np.array([1, 2, 3, 4])\n",
    "\n",
    "print(arr[1])"
   ]
  },
  {
   "cell_type": "code",
   "execution_count": 4,
   "id": "a66c50cd-a4df-43f5-b89b-ef0254097062",
   "metadata": {},
   "outputs": [
    {
     "name": "stdout",
     "output_type": "stream",
     "text": [
      "7\n"
     ]
    }
   ],
   "source": [
    "# Get third and fourth elements from the following array and add them.\n",
    "\n",
    "import numpy as np\n",
    "\n",
    "arr = np.array([1, 2, 3, 4])\n",
    "\n",
    "print(arr[2] + arr[3])"
   ]
  },
  {
   "cell_type": "markdown",
   "id": "24be6805-1e10-44a5-b29f-d8ce69bd43ca",
   "metadata": {},
   "source": [
    "# Access 2-D Arrays\n",
    "To access elements from 2-D arrays we can use comma separated integers representing the dimension and the index of the element.\n",
    "\n",
    "Think of 2-D arrays like a table with rows and columns, where the dimension represents the row and the index represents the column."
   ]
  },
  {
   "cell_type": "code",
   "execution_count": 5,
   "id": "1b865107-01a5-4453-a58c-2b9057421713",
   "metadata": {},
   "outputs": [
    {
     "name": "stdout",
     "output_type": "stream",
     "text": [
      "2nd element on 1st row:  2\n"
     ]
    }
   ],
   "source": [
    "# Access the element on the first row, second column:\n",
    "\n",
    "import numpy as np\n",
    "\n",
    "arr = np.array([[1,2,3,4,5], [6,7,8,9,10]])\n",
    "\n",
    "print('2nd element on 1st row: ', arr[0, 1])"
   ]
  },
  {
   "cell_type": "code",
   "execution_count": 7,
   "id": "cfa6b25e-bb4e-455d-b64f-0edc40967187",
   "metadata": {},
   "outputs": [
    {
     "name": "stdout",
     "output_type": "stream",
     "text": [
      "5th element on 2nd row:  10\n"
     ]
    }
   ],
   "source": [
    "# Access the element on the 2nd row, 5th column:\n",
    "\n",
    "import numpy as np\n",
    "\n",
    "arr = np.array([[1,2,3,4,5], [6,7,8,9,10]])\n",
    "\n",
    "print('5th element on 2nd row: ', arr[1, 4])"
   ]
  },
  {
   "cell_type": "markdown",
   "id": "cce1fe5e-14ba-4916-b284-6181941acf04",
   "metadata": {},
   "source": [
    "# Access 3-D Arrays\n",
    "To access elements from 3-D arrays we can use comma separated integers representing the dimensions and the index of the element."
   ]
  },
  {
   "cell_type": "code",
   "execution_count": 10,
   "id": "62ca94d5-b8e0-4519-bef2-01628241536f",
   "metadata": {},
   "outputs": [
    {
     "name": "stdout",
     "output_type": "stream",
     "text": [
      "6\n"
     ]
    }
   ],
   "source": [
    "# Access the third element of the second array of the first array:\n",
    "\n",
    "import numpy as np\n",
    "\n",
    "arr = np.array([[[1, 2, 3], [4, 5, 6]], [[7, 8, 9], [10, 11, 12]]])\n",
    "\n",
    "print(arr[0, 1, 2])"
   ]
  },
  {
   "cell_type": "markdown",
   "id": "3da3164a-78aa-47cf-b89a-9bbf746c8725",
   "metadata": {},
   "source": [
    "Example Explained\n",
    "arr[0, 1, 2] prints the value 6.\n",
    "\n",
    "And this is why:\n",
    "\n",
    "The first number represents the first dimension, which contains two arrays:\n",
    "[[1, 2, 3], [4, 5, 6]]\n",
    "and:\n",
    "[[7, 8, 9], [10, 11, 12]]\n",
    "Since we selected 0, we are left with the first array:\n",
    "[[1, 2, 3], [4, 5, 6]]\n",
    "\n",
    "The second number represents the second dimension, which also contains two arrays:\n",
    "[1, 2, 3]\n",
    "and:\n",
    "[4, 5, 6]\n",
    "Since we selected 1, we are left with the second array:\n",
    "[4, 5, 6]\n",
    "\n",
    "The third number represents the third dimension, which contains three values:\n",
    "4\n",
    "5\n",
    "6\n",
    "Since we selected 2, we end up with the third value:\n",
    "6"
   ]
  },
  {
   "cell_type": "markdown",
   "id": "8b05c011-5eac-43f2-94be-6b79ca70cd01",
   "metadata": {},
   "source": [
    "# Negative Indexing\n",
    "Use negative indexing to access an array from the end."
   ]
  },
  {
   "cell_type": "code",
   "execution_count": 12,
   "id": "ac2da7e9-7b35-4fca-b529-9d007c467bd0",
   "metadata": {},
   "outputs": [
    {
     "name": "stdout",
     "output_type": "stream",
     "text": [
      "Last element from 2nd dim:  10\n"
     ]
    }
   ],
   "source": [
    "# Print the last element from the 2nd dim:\n",
    "\n",
    "import numpy as np\n",
    "\n",
    "arr = np.array([[1,2,3,4,5], [6,7,8,9,10]])\n",
    "\n",
    "print('Last element from 2nd dim: ', arr[1, -1])"
   ]
  },
  {
   "cell_type": "code",
   "execution_count": null,
   "id": "f32bda52-25ec-48e8-ab95-b0193989d610",
   "metadata": {},
   "outputs": [],
   "source": []
  }
 ],
 "metadata": {
  "kernelspec": {
   "display_name": "Python 3 (ipykernel)",
   "language": "python",
   "name": "python3"
  },
  "language_info": {
   "codemirror_mode": {
    "name": "ipython",
    "version": 3
   },
   "file_extension": ".py",
   "mimetype": "text/x-python",
   "name": "python",
   "nbconvert_exporter": "python",
   "pygments_lexer": "ipython3",
   "version": "3.11.9"
  }
 },
 "nbformat": 4,
 "nbformat_minor": 5
}
